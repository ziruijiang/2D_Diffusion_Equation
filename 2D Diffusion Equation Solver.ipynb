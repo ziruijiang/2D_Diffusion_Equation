{
 "cells": [
  {
   "cell_type": "markdown",
   "metadata": {},
   "source": [
    "### 2D Diffusion Equation :\n",
    "$ -\\frac{\\partial}{\\partial x}D(x,y)\\frac{\\partial}{\\partial x}\\phi(x,y) - -\\frac{\\partial}{\\partial y}D(x,y\\frac{\\partial}{\\partial y}\\phi(x,y) + \\Sigma_a(x,y)\\phi(x,y) = S(x,y)$\n",
    "\n"
   ]
  },
  {
   "cell_type": "markdown",
   "metadata": {},
   "source": [
    "### Descritized with FVM:\n",
    "$\\Sigma_{a,ij} = \\phi_{i,j}(\\Sigma_{a,i,j}V_{i,j} + \\Sigma_{a,i+1,j}V_{i+1,j} + \\Sigma_{a,i+1,j=1}V_{i+1,j=1} + \\Sigma_{a,i,j+1}V_{i,j+1})$\n",
    "$$ S_{ij} = S_{i,j}V_{i,j} + S_{i+1,j}V_{i+1,j} + S_{i+1,j+1}V_{i+1,j+1] + S_{i,j+1}V_{i,j+1} $$"
   ]
  },
  {
   "cell_type": "code",
   "execution_count": 1,
   "metadata": {
    "collapsed": true
   },
   "outputs": [],
   "source": [
    "import numpy as np"
   ]
  },
  {
   "cell_type": "code",
   "execution_count": 1,
   "metadata": {
    "collapsed": false
   },
   "outputs": [
    {
     "ename": "SyntaxError",
     "evalue": "invalid syntax (<ipython-input-1-5226366caed8>, line 1)",
     "output_type": "error",
     "traceback": [
      "\u001b[0;36m  File \u001b[0;32m\"<ipython-input-1-5226366caed8>\"\u001b[0;36m, line \u001b[0;32m1\u001b[0m\n\u001b[0;31m    def DE_solver(x_pos, y_pos, D_mesh, abs_mesh, source_mesh)\u001b[0m\n\u001b[0m                                                              ^\u001b[0m\n\u001b[0;31mSyntaxError\u001b[0m\u001b[0;31m:\u001b[0m invalid syntax\n"
     ]
    }
   ],
   "source": [
    "def DE_solver(x_pos, y_pos, D_mesh, abs_mesh, source_mesh)\n",
    "    \"\"\"\n",
    "    x_pos: position of material along x direction (n+1 by 1)\n",
    "    y_pos: position of material along y direction (m+1 by 1)\n",
    "    D_mesh: Diffusion constant distribution over meshes (m by n)\n",
    "    abs_mesh: Absorption macroscopic cross section distribution over meshes (m by n)\n",
    "    source_mesh: Fixed source distribution over meshes (m by n)\n",
    "    \"\"\"\n",
    "    m = len(y_pos)-1\n",
    "    n = len(x_pos)-1\n",
    "    coeff_matrix = np.zeros((m,n))\n",
    "    solution = np.zeros((m,1))\n",
    "    \n",
    "#     delta = []\n",
    "#     for i in range(n):\n",
    "#         delta.appen(x_pos[i+1]-x_pos[i])\n",
    "        \n",
    "#     epsilon = []\n",
    "#     for j in range(m):\n",
    "#         epislon.append(y_pos[i+1]-y_pos[i])\n",
    "    \n",
    "    #Non corner or edge points    \n",
    "    abs_list = solution.copy()\n",
    "    for j_index in reversed(range(1,m-1)): #the position starts from bottom left corner\n",
    "        for i_index in range(1,n-1):\n",
    "            d1=np.abs(x_pos[j]-x_pos[i-1])\n",
    "            e1=np.abs(y_pos[j]-y_pos[j+1])\n",
    "            d2=bp.abs(x_pos[i+1]-x_pos[i])\n",
    "            e2=np.abs(y_pos[j-1]-y[j])\n",
    "\n",
    "            V1=0.25*d1*e1\n",
    "            V2=0.25*d2*e1\n",
    "            V3=0.25*d2*e2\n",
    "            V4=0.25*d1*e2\n",
    "            \n",
    "            abs_value = abs_mesh[j,i-1]*V1+abs_mesh[j,i]*V2+abs_mesh[j-1,i]*V3+abs_mesh[j-1,i-1]*V4\n",
    "            source_value = source_mesh[j,i-1]*V1+source_mesh[j,i]*V2+source_mesh[j-1,i]*V3+source_mesh[j-1,i-1]*V4\n",
    "            abs_list[len(y_pos)*len(x_pos)-j*len(x_pos)+i] = abs_value\n",
    "            solution[len(y_pos)*len(x_pos)-j*len(x_pos)+i]= source_value\n",
    "            \n",
    "    #Reflecting Side Points\n",
    "    for j_index in reversed(range(1,m-1)): \n",
    "        \n",
    "        i=n\n",
    "        d1=np.abs(x_pos[j]-x_pos[i-1])\n",
    "        e1=np.abs(y_pos[j]-y_pos[j+1])\n",
    "        d2=bp.abs(x_pos[i+1]-x_pos[i])\n",
    "        e2=np.abs(y_pos[j-1]-y[j])\n",
    "        \n",
    "        V1=1/4*d1*e1\n",
    "        V4=1/4*d1*e2\n",
    "\n",
    "        abs_value = abs_mesh[j,i-1]*V1+abs_mesh[j-1,i-1]*V4\n",
    "        source_value = source_mesh[j,i-1]*V1+source_mesh[j-1,i-1]*V4\n",
    "        abs_list[len(y_pos)*len(x_pos)-j*len(x_pos)+i] = abs_value\n",
    "        solution[len(y_pos)*len(x_pos)-j*len(x_pos)+i]= source_value\n",
    "\n",
    "            \n",
    "            \n",
    "            "
   ]
  },
  {
   "cell_type": "code",
   "execution_count": null,
   "metadata": {
    "collapsed": true
   },
   "outputs": [],
   "source": []
  }
 ],
 "metadata": {
  "kernelspec": {
   "display_name": "Python 3",
   "language": "python",
   "name": "python3"
  },
  "language_info": {
   "codemirror_mode": {
    "name": "ipython",
    "version": 3
   },
   "file_extension": ".py",
   "mimetype": "text/x-python",
   "name": "python",
   "nbconvert_exporter": "python",
   "pygments_lexer": "ipython3",
   "version": "3.5.4"
  }
 },
 "nbformat": 4,
 "nbformat_minor": 2
}
