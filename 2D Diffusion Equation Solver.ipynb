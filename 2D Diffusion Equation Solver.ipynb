{
 "cells": [
  {
   "cell_type": "markdown",
   "metadata": {},
   "source": [
    "### 2D Diffusion Equation :\n",
    "$ -\\frac{\\partial}{\\partial x}D(x,y)\\frac{\\partial}{\\partial x}\\phi(x,y) - -\\frac{\\partial}{\\partial y}D(x,y\\frac{\\partial}{\\partial y}\\phi(x,y) + \\Sigma_a(x,y)\\phi(x,y) = S(x,y)$\n",
    "\n"
   ]
  },
  {
   "cell_type": "markdown",
   "metadata": {},
   "source": [
    "### Descritized with FVM:\n",
    "$\\Sigma_{a,ij} = \\phi_{i,j}(\\Sigma_{a,i,j}V_{i,j} + \\Sigma_{a,i+1,j}V_{i+1,j} + \\Sigma_{a,i+1,j=1}V_{i+1,j=1} + \\Sigma_{a,i,j+1}V_{i,j+1})$\n",
    "$$ S_{ij} = S_{i,j}V_{i,j} + S_{i+1,j}V_{i+1,j} + S_{i+1,j+1}V_{i+1,j+1] + S_{i,j+1}V_{i,j+1} $$"
   ]
  },
  {
   "cell_type": "code",
   "execution_count": 1,
   "metadata": {
    "collapsed": true
   },
   "outputs": [],
   "source": [
    "import numpy as np"
   ]
  },
  {
   "cell_type": "code",
   "execution_count": 1,
   "metadata": {
    "collapsed": false
   },
   "outputs": [
    {
     "ename": "SyntaxError",
     "evalue": "invalid syntax (<ipython-input-1-5226366caed8>, line 1)",
     "output_type": "error",
     "traceback": [
      "\u001b[0;36m  File \u001b[0;32m\"<ipython-input-1-5226366caed8>\"\u001b[0;36m, line \u001b[0;32m1\u001b[0m\n\u001b[0;31m    def DE_solver(x_pos, y_pos, D_mesh, abs_mesh, source_mesh)\u001b[0m\n\u001b[0m                                                              ^\u001b[0m\n\u001b[0;31mSyntaxError\u001b[0m\u001b[0;31m:\u001b[0m invalid syntax\n"
     ]
    }
   ],
   "source": [
    "def DE_solver(x_pos, y_pos, D_mesh, abs_mesh, source_mesh)\n",
    "    \"\"\"\n",
    "    x_pos: position of material along x direction (n+1 by 1)\n",
    "    y_pos: position of material along y direction (m+1 by 1)\n",
    "    D_mesh: Diffusion constant distribution over meshes (m by n)\n",
    "    abs_mesh: Absorption macroscopic cross section distribution over meshes (m by n)\n",
    "    source_mesh: Fixed source distribution over meshes (m by n)\n",
    "    \"\"\"\n",
    "    m = len(y_pos)-1\n",
    "    n = len(x_pos)-1\n",
    "    coeff_matrix = np.zeros((m,n))\n",
    "    \n",
    "    delta = []\n",
    "    for i in range(n):\n",
    "        delta.appen(x_pos[i+1]-x_pos[i])\n",
    "        \n",
    "    epsilon = []\n",
    "    for j in range(m):\n",
    "        epislon.append(y_pos[i+1]-y_pos[i])\n",
    "    \n",
    "    #Non0corner or edge points    \n",
    "    for i_index in reversed(range(m)): #the position starts from bottom left corner\n",
    "        for j_index in range(n):\n",
    "            diag = [[] for d in range(5)]\n",
    "            \n",
    "            "
   ]
  },
  {
   "cell_type": "code",
   "execution_count": null,
   "metadata": {
    "collapsed": true
   },
   "outputs": [],
   "source": []
  }
 ],
 "metadata": {
  "kernelspec": {
   "display_name": "Python 3",
   "language": "python",
   "name": "python3"
  },
  "language_info": {
   "codemirror_mode": {
    "name": "ipython",
    "version": 3
   },
   "file_extension": ".py",
   "mimetype": "text/x-python",
   "name": "python",
   "nbconvert_exporter": "python",
   "pygments_lexer": "ipython3",
   "version": "3.5.4"
  }
 },
 "nbformat": 4,
 "nbformat_minor": 2
}
