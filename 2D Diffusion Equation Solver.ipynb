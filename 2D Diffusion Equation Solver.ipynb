{
 "cells": [
  {
   "cell_type": "markdown",
   "metadata": {},
   "source": [
    "### 2D Diffusion Equation :\n",
    "$$ -\\frac{\\partial}{\\partial x}D(x,y)\\frac{\\partial}{\\partial x}\\phi(x,y) - -\\frac{\\partial}{\\partial y}D(x,y)\\frac{\\partial}{\\partial y}\\phi(x,y) + \\Sigma_a(x,y)\\phi(x,y) = S(x,y)$$\n",
    "\n"
   ]
  },
  {
   "cell_type": "markdown",
   "metadata": {},
   "source": [
    "### Descritized with FVM:\n",
    "Assumption: $$ D(x,y) = D_{i,j} $$\n",
    "$$ \\Sigma_{a}(x,y) = \\Sigma_{a,i,j}  $$\n",
    "$$ S(x,y) = S_{i,j}  $$\n",
    "$$ \\Delta x_i \\equiv \\delta_i = x_i-x_{i-1}  $$\n",
    "$$ \\Delta y_i \\equiv \\delta_i = y_j-y_{j-1}  $$\n",
    "Aborption Term:\n",
    "$$ \\Sigma_{a,ij} = \\phi_{i,j}(\\Sigma_{a,i,j}V_{i,j} + \\Sigma_{a,i+1,j}V_{i+1,j} + \\Sigma_{a,i+1,j+}V_{i+1,j+} + \\Sigma_{a,i,j+1}V_{i,j+1}) $$"
   ]
  },
  {
   "cell_type": "markdown",
   "metadata": {},
   "source": [
    "Source term:\n",
    "$$S_{ij} = S_{i,j}V_{i,j} + S_{i+1,j}V_{i+1,j} + S_{i+1,j+1}V_{i+1,j+1} + S_{i,j+1}V_{i,j+1}$$\n",
    "\n",
    "Where: $$ V_{i,j} = \\frac{1}{4}\\delta_i\\epsilon_j$$\n",
    "$$ V_{i+1,j} = \\frac{1}{4}\\delta_{i+1}\\epsilon_j$$\n",
    "$$ V_{i+1,j+1} = \\frac{1}{4}\\delta_{i+1}\\epsilon_{j+1}$$\n",
    "$$ V_{i,j+1} = \\frac{1}{4}\\delta_{i}\\epsilon_{j+1}$$\n",
    "\n",
    "$$S_{ij} = a^{ij}_{i-1,j} \\phi_{i-1,j} + a^{ij}_{i+1,j} \\phi_{i+1,j} + a^{ij}_{i,j-1} \\phi_{i,j-1} + a^{ij}_{i,j+1} \\phi_{i,j+1} + a^{ij}_{i,j} \\phi_{i,j}$$\n",
    "\n",
    "Where: $$ a^{ij}_{i-1,j} = -\\frac{D_{i,j}\\epsilon_{j}+D_{i,j+1}\\epsilon_{j+1}}{2\\delta_{i}}$$\n",
    "$$ a^{ij}_{i+1,j} = -\\frac{D_{i+1,j}\\epsilon_{j}+D_{i+1,j+1}\\epsilon_{j+1}}{2\\delta_{i+1}}$$\n",
    "$$ a^{ij}_{i,j-1} = -\\frac{D_{i,j}\\delta_{i}+D_{i+1,j}\\delta_{i+1}}{2\\epsilon_{j}}$$\n",
    "$$ a^{ij}_{i,j+1} = \\frac{D_{i,j+1}\\delta_{i}+D_{i+1,j+1}\\delta_{i+1}}{2\\epsilon_{j+1}}$$\n",
    "$$ a^{ij}_{i,j} = \\Sigma_{a,ij}-(a^{ij}_{i-1,j} + a^{ij}_{i+1,j} + a^{ij}_{i,j-1} + a^{ij}_{i,j+1})$$"
   ]
  },
  {
   "cell_type": "markdown",
   "metadata": {},
   "source": [
    "![title](NSDE_2D.jpg)"
   ]
  },
  {
   "cell_type": "markdown",
   "metadata": {},
   "source": [
    "Boundary Conditions:$$ $$\n",
    "(1) Corners: $\\phi_{0,0} = \\Phi_B$,  $\\phi_{n,0} = \\Phi_R$,  $\\phi_{0,m} = \\Phi_L$,  $\\phi_{n,m} = \\Phi_T$\n",
    "$$ $$\n",
    "(2) Edges:  $$\\phi_{0,j} = \\Phi_L \\ \\ \\ \\ j = 1,...,m-1$$\n",
    "$$\\phi_{n,j} = \\Phi_R \\ \\ \\ \\ j = 1,...,m-1$$\n",
    "$$\\phi_{i,0} = \\Phi_B \\ \\ \\ \\   i = 1,...,n-1$$\n",
    "$$\\phi_{i,m} = \\Phi_T \\ \\ \\ \\ i = 1,...,n-1$$"
   ]
  },
  {
   "cell_type": "code",
   "execution_count": 48,
   "metadata": {
    "collapsed": false
   },
   "outputs": [],
   "source": [
    "import numpy as np"
   ]
  },
  {
   "cell_type": "code",
   "execution_count": 49,
   "metadata": {
    "collapsed": false
   },
   "outputs": [],
   "source": [
    "def it_gauss_sedidel(A, b, x, e):\n",
    "    '''\n",
    "    Ax = b with n iterations until error < e\n",
    "    '''\n",
    "    solutions = []\n",
    "    L = np.tril(A)\n",
    "    n = 1\n",
    "    x = np.dot(np.linalg.inv(L), b - np.dot(A-L, x))\n",
    "    err = 1\n",
    "    solutions.append(list(x))    \n",
    "    while err>e:\n",
    "        x = np.dot(np.linalg.inv(L), b - np.dot(A-L, x))\n",
    "        solutions.append(list(x))  \n",
    "        err = np.linalg.norm(x-solutions[-2])/np.linalg.norm(x)\n",
    "        n+=1\n",
    "    return n, solutions[-1]\n",
    "\n",
    "def it_jacobi(A, b, x, e):\n",
    "    '''\n",
    "    Ax = b with n iterations until error < e\n",
    "    '''\n",
    "    solutions = []\n",
    "    D = np.diag(A)\n",
    "    P = A - np.diagflat(D)\n",
    "    n = 1\n",
    "    x = (b - np.dot(P,x))/ D\n",
    "    err = 1\n",
    "    solutions.append(list(x))\n",
    "    while err > e:\n",
    "        x = (b - np.dot(P,x))/ D\n",
    "        solutions.append(list(x))        \n",
    "        err = np.linalg.norm(x-solutions[-2])/np.linalg.norm(x)\n",
    "        n += 1\n",
    "    return n, solutions[-1]\n",
    "\n",
    "def it_sor(A, b, x, e, w = 1.1):\n",
    "    '''\n",
    "    Ax = b with n iterations until error < e\n",
    "    ''' \n",
    "    solutions = []    \n",
    "    shape = np.shape(A)\n",
    "    m = shape[0]\n",
    "    x1 = x[:]\n",
    "    D=np.diagonal(A)\n",
    "    for i in range(m):\n",
    "        x1[i] = (1-w)*x[i]+(w*(b[i]-np.dot(A[i,:i],x1[0:i])-np.dot(A[i,i+1:],x[i+1:]))/D[i])\n",
    "        solutions.append(list(x1)) \n",
    "    x = x1\n",
    "    n = 1\n",
    "    err = 1\n",
    "    while err > e:\n",
    "        for i in range(m):\n",
    "            x1[i] = (1-w)*x[i]+(w*(b[i]-np.dot(A[i,:i],x1[0:i])-np.dot(A[i,i+1:],x[i+1:]))/D[i])\n",
    "            solutions.append(list(x1))             \n",
    "        err = np.linalg.norm(x1-solutions[-2])/np.linalg.norm(x1)\n",
    "        x = x1\n",
    "        n += 1\n",
    "\n",
    "    return n, solutions[-1]\n",
    "\n",
    "\n",
    "def DE_solver(x_pos, y_pos, D_mesh, abs_mesh, source_mesh, err_tol):\n",
    "    \"\"\"\n",
    "    x_pos: position of material along x direction (n+1 by 1)\n",
    "    y_pos: position of material along y direction (m+1 by 1)\n",
    "    D_mesh: Diffusion constant distribution over meshes (m by n)\n",
    "    abs_mesh: Absorption macroscopic cross section distribution over meshes (m by n)\n",
    "    source_mesh: Fixed source distribution over meshes (m by n)\n",
    "    \"\"\"\n",
    "    m = len(y_pos)-1\n",
    "    n = len(x_pos)-1\n",
    "    coeff_matrix = np.zeros(((m+1)*(n+1),(m+1)*(n+1)))\n",
    "    solution = np.empty(((m+1)*(n+1),1))\n",
    "    solution.fill(np.nan)\n",
    "    \n",
    "    #Absorption: Non corner or edge points    \n",
    "    abs_list = solution.copy()\n",
    "    for j in reversed(range(1,m)): #the position starts from bottom left corner\n",
    "        for i in range(1,n):\n",
    "            d1=np.abs(x_pos[i]-x_pos[i-1])\n",
    "            e1=np.abs(y_pos[j]-y_pos[j+1])\n",
    "            d2=np.abs(x_pos[i+1]-x_pos[i])\n",
    "            e2=np.abs(y_pos[j-1]-y_pos[j])\n",
    "\n",
    "            V1=0.25*d1*e1\n",
    "            V2=0.25*d2*e1\n",
    "            V3=0.25*d2*e2\n",
    "            V4=0.25*d1*e2\n",
    "            \n",
    "            abs_value = abs_mesh[j,i-1]*V1+abs_mesh[j,i]*V2+abs_mesh[j-1,i]*V3+abs_mesh[j-1,i-1]*V4\n",
    "            #print(abs_mesh[j,i-1]*V1,abs_mesh[j,i]*V2,abs_mesh[j-1,i]*V3,abs_mesh[j-1,i-1]*V4)\n",
    "            source_value = source_mesh[j,i-1]*V1+source_mesh[j,i]*V2+source_mesh[j-1,i]*V3+source_mesh[j-1,i-1]*V4\n",
    "            abs_list[len(y_pos)*len(x_pos)-(j+1)*len(x_pos)+(i+1)-1] = abs_value\n",
    "            solution[len(y_pos)*len(x_pos)-(j+1)*len(x_pos)+(i+1)-1]= source_value\n",
    "            \n",
    "    #Absorption: Reflecting Side Right Points\n",
    "    for j in reversed(range(1,m)): \n",
    "        i=n\n",
    "        d1=np.abs(x_pos[i]-x_pos[i-1])\n",
    "        e1=np.abs(y_pos[j]-y_pos[j+1])\n",
    "        e2=np.abs(y_pos[j-1]-y_pos[j])\n",
    "        \n",
    "        V1=0.25*d1*e1\n",
    "        V4=0.25*d1*e2\n",
    "\n",
    "        abs_value = abs_mesh[j,i-1]*V1+abs_mesh[j-1,i-1]*V4\n",
    "        source_value = source_mesh[j,i-1]*V1+source_mesh[j-1,i-1]*V4\n",
    "        abs_list[len(y_pos)*len(x_pos)-(j+1)*len(x_pos)+(i+1)-1] = abs_value\n",
    "        solution[len(y_pos)*len(x_pos)-(j+1)*len(x_pos)+(i+1)-1]= source_value       \n",
    "\n",
    "    #Absorption: Reflecting Side top Points\n",
    "    for i in range(1,n): \n",
    "        j=0\n",
    "        d1=np.abs(x_pos[i]-x_pos[i-1])\n",
    "        e1=np.abs(y_pos[j]-y_pos[j+1])\n",
    "        d2=np.abs(x_pos[i+1]-x_pos[i])\n",
    "        \n",
    "        V1=0.25*d1*e1\n",
    "        V2=0.25*d2*e1\n",
    "\n",
    "        abs_value = abs_mesh[j,i-1]*V1+abs_mesh[j,i]*V2\n",
    "        source_value = source_mesh[j,i-1]*V1+source_mesh[j,i]*V2\n",
    "        abs_list[len(y_pos)*len(x_pos)-(j+1)*len(x_pos)+(i+1)-1] = abs_value\n",
    "        solution[len(y_pos)*len(x_pos)-(j+1)*len(x_pos)+(i+1)-1]= source_value   \n",
    "        \n",
    "    #Absorption: Top Right\n",
    "    i,j = n,0\n",
    "    d1=np.abs(x_pos[i]-x_pos[i-1])\n",
    "    e1=np.abs(y_pos[j]-y_pos[j+1])\n",
    "    V1=0.25*d1*e1\n",
    "    abs_value = abs_mesh[j,i-1]*V1\n",
    "    source_value = source_mesh[j,i-1]*V1\n",
    "    abs_list[len(y_pos)*len(x_pos)-(j+1)*len(x_pos)+(i+1)-1] = abs_value\n",
    "    solution[len(y_pos)*len(x_pos)-(j+1)*len(x_pos)+(i+1)-1]= source_value\n",
    "    \n",
    "    \n",
    "    Left=np.empty((n*(m+1),1))\n",
    "    Left.fill(np.nan)\n",
    "    Right=np.empty((n*(m+1),1))\n",
    "    Right.fill(np.nan)\n",
    "    Bottom=np.empty((m*(n+1),1))\n",
    "    Bottom.fill(np.nan)\n",
    "    Top=np.empty((m*(n+1),1))\n",
    "    Top.fill(np.nan)\n",
    "    Center=np.empty(((m+1)*(n+1),1))\n",
    "    Center.fill(np.nan)\n",
    "    \n",
    "    #Flux: Non corner or edge points\n",
    "    for j in reversed(range(1,m)): #the position starts from bottom left corner\n",
    "        for i in range(1,n):\n",
    "            d1=np.abs(x_pos[i]-x_pos[i-1])\n",
    "            e1=np.abs(y_pos[j]-y_pos[j+1])\n",
    "            d2=np.abs(x_pos[i+1]-x_pos[i])\n",
    "            e2=np.abs(y_pos[j-1]-y_pos[j])\n",
    "            \n",
    "            a_L=-(D_mesh[j,i-1]*e1+D_mesh[j-1,i-1]*e2)/(2*d1)\n",
    "            a_R=-(D_mesh[j,i]*e1+D_mesh[j-1,i]*e2)/(2*d2)\n",
    "            a_B=-(D_mesh[j,i-1]*d1+D_mesh[j,i]*d2)/(2*e1)\n",
    "            a_T=-(D_mesh[j-1,i-1]*d1+D_mesh[j-1,i]*d2)/(2*e2)\n",
    "            a_C=abs_list[len(y_pos)*len(x_pos)-(j+1)*len(x_pos)+(i+1)-1]-(a_L+a_R+a_B+a_T)\n",
    "            \n",
    "            Left[((m+1-(j+1))*(n+1-1)+i-1)]=a_L\n",
    "            Right[((m+1-(j+1))*(n+1-1)+i)]=a_R\n",
    "            Bottom[(m+1-(j+1)-1)*(n+1)+i]=a_B\n",
    "            Top[(m+1-(j+1))*(n+1)+i]=a_T\n",
    "            Center[(m+1-(j+1))*(n+1)+i]=a_C\n",
    "    \n",
    "    #Flux: Reflecting side right\n",
    "    for j in reversed(range(1,m)): #the position starts from bottom left corner\n",
    "        i=n\n",
    "        d1=np.abs(x_pos[i]-x_pos[i-1])\n",
    "        e1=np.abs(y_pos[j]-y_pos[j+1])\n",
    "        #d2=bp.abs(x_pos[i+1]-x_pos[i])\n",
    "        e2=np.abs(y_pos[j-1]-y_pos[j])\n",
    "\n",
    "        a_L=-(D_mesh[j,i-1]*e1+D_mesh[j-1,i-1]*e2)/(2*d1)\n",
    "        #a_R=-(D_mesh[j,i]*e1+D_mesh[j-1,i]*e2)/(2*d2)\n",
    "        a_B=-(D_mesh[j,i-1]*d1)/(2*e1)\n",
    "        a_T=-(D_mesh[j-1,i-1]*d1)/(2*e2)\n",
    "        a_C=abs_list[len(y_pos)*len(x_pos)-(j+1)*len(x_pos)+(i+1)-1]-(a_L+a_B+a_T)\n",
    "\n",
    "        Left[((m+1-(j+1))*(n+1-1)+i-1)]=a_L\n",
    "        #Right[((m+1-j)*(n+1-1)+i)]=a_R\n",
    "        Bottom[(m+1-(j+1)-1)*(n+1)+i]=a_B\n",
    "        Top[(m+1-(j+1))*(n+1)+i]=a_T\n",
    "        Center[(m+1-(j+1))*(n+1)+i]=a_C \n",
    "        \n",
    "    #Flux: Reflecting side top\n",
    "    for i in range(1,n): #the position starts from bottom left corner\n",
    "        j=0\n",
    "        d1=np.abs(x_pos[i]-x_pos[i-1])\n",
    "        e1=np.abs(y_pos[j]-y_pos[j+1])\n",
    "        d2=np.abs(x_pos[i+1]-x_pos[i])\n",
    "        #e2=np.abs(y_pos[j-1]-y[j])\n",
    "\n",
    "        a_L=-(D_mesh[j,i-1]*e1)/(2*d1)\n",
    "        a_R=-(D_mesh[j,i]*e1)/(2*d2)\n",
    "        a_B=-(D_mesh[j,i-1]*d1+D_mesh[j,i]*d2)/(2*e1)\n",
    "        #a_T=-(D_mesh[j-1,i-1]*d1+D_mesh[j-1,i]*d2)/(2*e2)\n",
    "        a_C=abs_list[len(y_pos)*len(x_pos)-(j+1)*len(x_pos)+(i+1)-1]-(a_L+a_R+a_B)\n",
    "\n",
    "        Left[(m+1-(j+1))*(n+1-1)+i-1]=a_L\n",
    "        Right[((m+1-(j+1))*(n+1-1)+i)]=a_R\n",
    "        Bottom[(m+1-(j+1)-1)*(n+1)+i]=a_B\n",
    "        #Top[(m+1-j-1)*(n+1)+i]=a_T\n",
    "        Center[(m+1-(j+1))*(n+1)+i]=a_C   \n",
    "    #Flux: Top right\n",
    "    i,j = n,0\n",
    "    d1=np.abs(x_pos[i]-x_pos[i-1])\n",
    "    e1=np.abs(y_pos[j]-y_pos[j+1])\n",
    "    #d2=bp.abs(x_pos[i+1]-x_pos[i])\n",
    "    #e2=np.abs(y_pos[j-1]-y[j])\n",
    "\n",
    "    a_L=-(D_mesh[j,i-1]*e1)/(2*d1)\n",
    "    #a_R=-(D_mesh[j,i]*e1+D_mesh[j-1,i]*e2)/(2*d2)\n",
    "    a_B=-(D_mesh[j,i-1]*d1)/(2*e1)\n",
    "    #a_T=-(D_mesh[j-1,i-1]*d1+D_mesh[j-1,i]*d2)/(2*e2)\n",
    "    a_C=abs_list[len(y_pos)*len(x_pos)-(j+1)*len(x_pos)+(i+1)-1]-(a_L+a_B)\n",
    "\n",
    "    Left[((m+1-(j+1))*(n+1-1)+i-1)]=a_L\n",
    "    #Right[((m+1-j)*(n+1-1)+i)]=a_R\n",
    "    Bottom[(m+1-(j+1)-1)*(n+1)+i]=a_B\n",
    "    #Top[(m+1-j-1)*(n+1)+i]=a_T\n",
    "    Center[(m+1-(j+1))*(n+1)+i]=a_C\n",
    "\n",
    "#     print(Center) #wrong values\n",
    "#     print(Top) #order messed up\n",
    "#     print(Bottom) #okay\n",
    "#     print(Left) #okay\n",
    "#     print(Right) #okay\n",
    "    for i in range((m+1)*(n+1)):\n",
    "        coeff_matrix[i,i]=Center[i]\n",
    "    \n",
    "    for i in range(len(Top)):\n",
    "        coeff_matrix[i,i+(n+1)*(m+1)-len(Top)]=Top[i]\n",
    "        coeff_matrix[i+(n+1)*(m+1)-len(Bottom),i]=Bottom[i]\n",
    "\n",
    "    A_Index=0\n",
    "    V_Index=0\n",
    "    for i in range((m+1)*(n+1)):\n",
    "        skip = (i+1)%(n+1)\n",
    "        if skip!=0: \n",
    "            coeff_matrix[A_Index,A_Index+1]=Right[V_Index]\n",
    "            coeff_matrix[A_Index+1,A_Index]=Left[V_Index]\n",
    "            A_Index+=1\n",
    "            V_Index+=1\n",
    "        else:\n",
    "            A_Index+=1\n",
    "\n",
    "    for i in range(len(solution)):\n",
    "        if np.isnan(solution[i]):\n",
    "            solution[i]=0\n",
    "            coeff_matrix[i,:]= np.zeros((1,len(coeff_matrix[i,:])))\n",
    "            coeff_matrix[i,i]=1\n",
    "    #return coeff_matrix\n",
    "    guess = np.ones(((m+1)*(n+1),1))/np.linalg.norm(np.ones(((m+1)*(n+1),1)),2)\n",
    "\n",
    "    iterations_gs, flux_list_gs = it_gauss_sedidel(np.array(coeff_matrix), np.array(solution).flatten(), np.array(guess).flatten() , err_tol)\n",
    "    iterations_j, flux_list_j = it_jacobi(np.array(coeff_matrix),np.array(solution).flatten(), np.array(guess).flatten() , err_tol)\n",
    "    iterations_s, flux_list_s = it_sor(np.array(coeff_matrix),np.array(solution).flatten(), np.array(guess).flatten() , err_tol)\n",
    "    \n",
    "    return flux_list_gs, flux_list_j, flux_list_s\n",
    "            "
   ]
  },
  {
   "cell_type": "code",
   "execution_count": 50,
   "metadata": {
    "collapsed": true
   },
   "outputs": [],
   "source": [
    "x_pos = np.array([0,4,8,12,16])\n",
    "y_pos = np.array([0,4,8,12,16])\n",
    "D_mesh = np.array([[1,0.25,1,0.25],\n",
    "                  [0.25,1,0.25,1],\n",
    "                  [1,0.25,1,0.25],\n",
    "                  [0.25,1,0.25,1]])\n",
    "abs_mesh = np.array([[0.5,0.2,0.5,0.2],\n",
    "                  [0.2,0.5,0.2,0.5],\n",
    "                  [0.5,0.2,0.5,0.2],\n",
    "                  [0.2,0.5,0.2,0.5]])\n",
    "source_mesh = np.array([[10,10,10,10],\n",
    "                  [10,10,10,10],\n",
    "                  [10,10,10,10],\n",
    "                  [10,10,10,10]])\n",
    "err_tol = 10**(-6)"
   ]
  },
  {
   "cell_type": "code",
   "execution_count": 51,
   "metadata": {
    "collapsed": false
   },
   "outputs": [
    {
     "data": {
      "text/plain": [
       "<matplotlib.colorbar.Colorbar at 0x1fe22f8b3c8>"
      ]
     },
     "execution_count": 51,
     "metadata": {},
     "output_type": "execute_result"
    },
    {
     "data": {
      "image/png": "[encoded data removed]",
      "text/plain": [
       "<matplotlib.figure.Figure at 0x1fe22e9fcc0>"
      ]
     },
     "metadata": {},
     "output_type": "display_data"
    }
   ],
   "source": [
    "%matplotlib inline\n",
    "import matplotlib.pyplot as plt\n",
    "plt.set_cmap('Reds')\n",
    "plt.pcolormesh(x_pos, y_pos, D_mesh)\n",
    "plt.colorbar()"
   ]
  },
  {
   "cell_type": "code",
   "execution_count": 52,
   "metadata": {
    "collapsed": false
   },
   "outputs": [
    {
     "name": "stdout",
     "output_type": "stream",
     "text": [
      "[0.0, 0.0, 0.0, 0.0, 0.0, 0.0, 23.725967977194255, 25.744291375344563, 25.824026199723363, 24.617045936347896, 0.0, 25.744291375344563, 28.09603937698823, 28.3180477787452, 28.472158655822444, 0.0, 25.824026199723363, 28.3180477787452, 28.609677728917973, 29.072664327085086, 0.0, 24.617045936347896, 28.472158655822444, 29.072664327085086, 45.017301030258359] [0.0, 0.0, 0.0, 0.0, 0.0, 0.0, 23.725969381249495, 25.744289891897989, 25.824022858193754, 24.617042965979618, 0.0, 25.744289891897989, 28.096034160097886, 28.318040241403764, 28.472149478731854, 0.0, 25.824022858193754, 28.318040241403764, 28.609667764630313, 29.072654056693477, 0.0, 24.617042965979618, 28.472149478731854, 29.072654056693477, 45.017292225682574] [-2.0000000000000123e-08, -2.0000000000000123e-08, -2.0000000000000123e-08, -2.0000000000000123e-08, -2.0000000000000123e-08, -2.0000000000000123e-08, 23.725880085896527, 25.744306635489075, 25.824053968825321, 24.617043376085171, -2.0000000000000123e-08, 25.744306635489075, 28.096087334702172, 28.318024044713887, 28.472159397211794, -2.0000000000000123e-08, 25.824053968825321, 28.318024044713887, 28.609680254228358, 29.072663931197674, -2.0000000000000123e-08, 24.617043376085171, 28.472159397211794, 29.072663931197674, 45.017303505219388]\n"
     ]
    }
   ],
   "source": [
    "flux_gs,j,s = DE_solver(x_pos, y_pos, D_mesh, abs_mesh, source_mesh, err_tol)\n",
    "print(flux_gs,j,s)"
   ]
  },
  {
   "cell_type": "code",
   "execution_count": 53,
   "metadata": {
    "collapsed": false
   },
   "outputs": [
    {
     "data": {
      "text/plain": [
       "<matplotlib.colorbar.Colorbar at 0x1fe2305e2b0>"
      ]
     },
     "execution_count": 53,
     "metadata": {},
     "output_type": "execute_result"
    },
    {
     "data": {
      "image/png": "[encoded data removed]",
      "text/plain": [
       "<matplotlib.figure.Figure at 0x1fe22de4d68>"
      ]
     },
     "metadata": {},
     "output_type": "display_data"
    }
   ],
   "source": [
    "%matplotlib inline\n",
    "import matplotlib.pyplot as plt\n",
    "plt.pcolormesh(x_pos, y_pos,np.reshape(flux_gs,(len(y_pos),len(x_pos))) )\n",
    "plt.colorbar()"
   ]
  },
  {
   "cell_type": "code",
   "execution_count": 54,
   "metadata": {
    "collapsed": false
   },
   "outputs": [],
   "source": [
    "x_pos = np.array([0,2,6,9,14,20,21,24])\n",
    "y_pos = np.array([-8,-5,-1,4,10,17])\n",
    "D_mesh = np.array([[1,1,1,1,1,1,1],\n",
    "                  [1,1,0.25,1,0.25,1,1],\n",
    "                  [0.25,1,1,1,1,1,0.25],\n",
    "                  [1,0.25,1,1,1,0.25,1],\n",
    "                  [1,1,0.25,0.25,0.25,1,1]])\n",
    "abs_mesh = np.array([[0.5,0.5,0.5,0.5,0.5,0.5,0.5],\n",
    "                  [0.5,0.5,0.2,0.5,0.2,0.5,0.5],\n",
    "                  [0.2,0.5,0.5,0.5,0.5,0.5,0.2],\n",
    "                  [0.5,0.2,0.5,0.5,0.5,0.2,0.5],\n",
    "                  [0.5,0.5,0.2,0.2,0.2,0.5,0.5]])\n",
    "source_mesh = np.array([[5,5,10,5,10,5,5],\n",
    "                  [5,5,5,5,5,5,5],\n",
    "                  [5,5,10,10,10,5,5],\n",
    "                  [5,10,5,5,5,10,5],\n",
    "                  [10,5,5,5,5,5,10]])\n",
    "err_tol = 10**(-6)"
   ]
  },
  {
   "cell_type": "code",
   "execution_count": 55,
   "metadata": {
    "collapsed": false
   },
   "outputs": [
    {
     "data": {
      "text/plain": [
       "<matplotlib.colorbar.Colorbar at 0x1fe23142240>"
      ]
     },
     "execution_count": 55,
     "metadata": {},
     "output_type": "execute_result"
    },
    {
     "data": {
      "image/png": "[encoded data removed]",
      "text/plain": [
       "<matplotlib.figure.Figure at 0x1fe230439b0>"
      ]
     },
     "metadata": {},
     "output_type": "display_data"
    }
   ],
   "source": [
    "%matplotlib inline\n",
    "import matplotlib.pyplot as plt\n",
    "plt.set_cmap('Reds')\n",
    "plt.pcolormesh(x_pos, y_pos, D_mesh)\n",
    "plt.colorbar()"
   ]
  },
  {
   "cell_type": "code",
   "execution_count": 56,
   "metadata": {
    "collapsed": false
   },
   "outputs": [
    {
     "name": "stdout",
     "output_type": "stream",
     "text": [
      "[0.0, 0.0, 0.0, 0.0, 0.0, 0.0, 0.0, 0.0, 8.5950622006059131e-15, 12.849511661694063, 16.532329275880148, 14.789223860183757, 14.598380400155055, 15.260661744406727, 15.364810133723157, 14.903505190760104, 8.2410731459989673e-16, 14.883395188530812, 17.379298758208581, 15.020689350129139, 14.797274179363026, 15.475449948288469, 15.509455954067175, 14.298315116377069, -9.6462210266755041e-16, 9.9768541075095758, 13.989838046377539, 16.650110451890498, 17.636989286511596, 17.418735003409932, 15.439605925026628, 14.700801507477802, -2.7825791034309147e-15, 8.2877830962806005, 13.25019169236754, 13.786136613562379, 15.338138564164302, 16.542437895171066, 13.113272596868779, 11.262236921291578, 0.0, 8.1933553493692877, 13.488391650701899, 13.829526341059466, 15.386194393154382, 16.478828196515973, 12.949418655295066, 10.990977782726269] [0.0, 0.0, 0.0, 0.0, 0.0, 0.0, 0.0, 0.0, 0.0, 12.849511705495463, 16.532329392274157, 14.789224043143765, 14.598380763652017, 15.260662632726302, 15.364810407010685, 14.903505109655567, 0.0, 14.883395327464656, 17.379299066659904, 15.020689717016648, 14.797274878138131, 15.475451501653167, 15.509455771669627, 14.298314374064443, 0.0, 9.9768543133616259, 13.989838379754548, 16.650110995173016, 17.636990144765605, 17.418734613464171, 15.439599511444337, 14.700794668605523, 0.0, 8.2877832789997257, 13.250192017685483, 13.786137043907113, 15.338138568305451, 16.542428317364852, 13.11325598762277, 11.262223732670765, 0.0, 8.1933554556593151, 13.488391809376864, 13.829526343736738, 15.386193190971795, 16.478813081819411, 12.949397710458463, 10.990961304520376] [1.4433756729740724e-07, 1.4433756729740724e-07, 1.4433756729740724e-07, 1.4433756729740724e-07, 1.4433756729740724e-07, 1.4433756729740724e-07, 1.4433756729740724e-07, 1.4433756729740724e-07, 1.4433756729740724e-07, 12.849522314891408, 16.532337155080405, 14.789263297053074, 14.598213288080753, 15.260492372030461, 15.36476863169262, 14.903504814449825, 1.4433756729740724e-07, 14.883372042161927, 17.379459015918133, 15.020455304987571, 14.797269934268986, 15.475445845386714, 15.509492319943238, 14.298343339400176, 1.4433756729740724e-07, 9.9768780616281703, 13.98959840814871, 16.650129139315901, 17.637076267347798, 17.41887248018606, 15.43973830650836, 14.700791945034375, 1.4433756729740724e-07, 8.2876350373566847, 13.250153147217524, 13.786270851275415, 15.338114057330802, 16.542576315047153, 13.113334125732981, 11.26224946423728, 1.4433756729740724e-07, 8.193296047071712, 13.488465521349763, 13.829553061312049, 15.386192993692095, 16.478882864281577, 12.94943359451935, 10.990984466484193]\n"
     ]
    }
   ],
   "source": [
    "flux_gs,j,s = DE_solver(x_pos, y_pos, D_mesh, abs_mesh, source_mesh, err_tol)\n",
    "print(flux_gs,j,s)"
   ]
  },
  {
   "cell_type": "code",
   "execution_count": 57,
   "metadata": {
    "collapsed": false
   },
   "outputs": [
    {
     "data": {
      "text/plain": [
       "<matplotlib.colorbar.Colorbar at 0x1fe23221550>"
      ]
     },
     "execution_count": 57,
     "metadata": {},
     "output_type": "execute_result"
    },
    {
     "data": {
      "image/png": "[encoded data removed]",
      "text/plain": [
       "<matplotlib.figure.Figure at 0x1fe230438d0>"
      ]
     },
     "metadata": {},
     "output_type": "display_data"
    }
   ],
   "source": [
    "%matplotlib inline\n",
    "import matplotlib.pyplot as plt\n",
    "plt.pcolormesh(x_pos, y_pos,np.reshape(flux_gs,(len(y_pos),len(x_pos))) )\n",
    "plt.colorbar()"
   ]
  },
  {
   "cell_type": "code",
   "execution_count": null,
   "metadata": {
    "collapsed": true
   },
   "outputs": [],
   "source": []
  }
 ],
 "metadata": {
  "kernelspec": {
   "display_name": "Python 3",
   "language": "python",
   "name": "python3"
  },
  "language_info": {
   "codemirror_mode": {
    "name": "ipython",
    "version": 3
   },
   "file_extension": ".py",
   "mimetype": "text/x-python",
   "name": "python",
   "nbconvert_exporter": "python",
   "pygments_lexer": "ipython3",
   "version": "3.5.4"
  }
 },
 "nbformat": 4,
 "nbformat_minor": 2
}
